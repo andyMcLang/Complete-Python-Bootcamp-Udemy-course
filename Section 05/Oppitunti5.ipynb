{
 "cells": [
  {
   "cell_type": "code",
   "execution_count": 12,
   "metadata": {},
   "outputs": [
    {
     "name": "stdout",
     "output_type": "stream",
     "text": [
      "Niino, emmätiiä mitä haluat!\n"
     ]
    }
   ],
   "source": [
    "# 34. If Elif and Else Statements in Python\n",
    "\n",
    "lokaatio = \"Talo\"\n",
    "\n",
    "if lokaatio == \"Auto\":\n",
    "    print(\"Juu, autot on siistejä!\")\n",
    "elif lokaatio == \"Pankki\":\n",
    "    print(\"Niin, rahaa on niin perkeleesti!\")\n",
    "else:\n",
    "    print(\"Niino, emmätiiä mitä haluat!\")\n"
   ]
  },
  {
   "cell_type": "code",
   "execution_count": 21,
   "metadata": {},
   "outputs": [
    {
     "name": "stdout",
     "output_type": "stream",
     "text": [
      "2\n",
      "4\n",
      "6\n",
      "8\n",
      "10\n",
      "-------------------------------------\n",
      "1\n",
      "3\n",
      "6\n",
      "10\n",
      "15\n",
      "21\n",
      "28\n",
      "36\n",
      "45\n",
      "55\n",
      "-------------------------------------\n",
      "3\n",
      "6\n",
      "auto\n",
      "-------------------------------------\n",
      "yksi\n",
      "kaksi\n",
      "kolme\n"
     ]
    }
   ],
   "source": [
    "# 35. For Loops in Python\n",
    "\n",
    "numerot = [1,2,3,4,5,6,7,8,9,10]\n",
    "\n",
    "for numero in numerot:\n",
    "    if numero % 2 == 0:\n",
    "        print(numero)\n",
    "\n",
    "print('-------------------------------------')\n",
    "\n",
    "sum = 0\n",
    "\n",
    "for numero in numerot:\n",
    "    sum += numero\n",
    "    print(sum)\n",
    "\n",
    "print('-------------------------------------')\n",
    "\n",
    "tupLista = [(1,2,3),(4,5,6),(7,8,'auto')]\n",
    "\n",
    "for a1,a2,a3 in tupLista:\n",
    "    print(a3)\n",
    "\n",
    "print('-------------------------------------')\n",
    "\n",
    "lista3 = {'a1': 'yksi', 'a2': 'kaksi', 'a3': 'kolme'}\n",
    "\n",
    "for avain, arvo in lista3.items():\n",
    "    print(arvo)"
   ]
  },
  {
   "cell_type": "code",
   "execution_count": 8,
   "metadata": {},
   "outputs": [
    {
     "name": "stdout",
     "output_type": "stream",
     "text": [
      "Numero on nyt 1\n",
      "Numero on nyt 3\n",
      "Numero on nyt 4\n",
      "Numero on nyt 5\n",
      "Numero on nyt 6\n",
      "Numero on nyt 7\n",
      "Numero on nyt 8\n"
     ]
    }
   ],
   "source": [
    "# 36. While Loops in Python\n",
    "\n",
    "x = 0\n",
    "\n",
    "while x < 10: \n",
    "    x+=1\n",
    "    if x == 2:\n",
    "        continue\n",
    "    print(f'Numero on nyt {x}')\n",
    "    if x == 8:\n",
    "        break"
   ]
  }
 ],
 "metadata": {
  "kernelspec": {
   "display_name": "base",
   "language": "python",
   "name": "python3"
  },
  "language_info": {
   "codemirror_mode": {
    "name": "ipython",
    "version": 3
   },
   "file_extension": ".py",
   "mimetype": "text/x-python",
   "name": "python",
   "nbconvert_exporter": "python",
   "pygments_lexer": "ipython3",
   "version": "3.11.5"
  }
 },
 "nbformat": 4,
 "nbformat_minor": 2
}
