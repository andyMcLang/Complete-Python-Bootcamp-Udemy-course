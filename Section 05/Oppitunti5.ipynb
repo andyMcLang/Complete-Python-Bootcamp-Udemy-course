{
 "cells": [
  {
   "cell_type": "code",
   "execution_count": 12,
   "metadata": {},
   "outputs": [
    {
     "name": "stdout",
     "output_type": "stream",
     "text": [
      "Niino, emmätiiä mitä haluat!\n"
     ]
    }
   ],
   "source": [
    "# 34. If Elif and Else Statements in Python\n",
    "\n",
    "lokaatio = \"Talo\"\n",
    "\n",
    "if lokaatio == \"Auto\":\n",
    "    print(\"Juu, autot on siistejä!\")\n",
    "elif lokaatio == \"Pankki\":\n",
    "    print(\"Niin, rahaa on niin perkeleesti!\")\n",
    "else:\n",
    "    print(\"Niino, emmätiiä mitä haluat!\")\n"
   ]
  }
 ],
 "metadata": {
  "kernelspec": {
   "display_name": "base",
   "language": "python",
   "name": "python3"
  },
  "language_info": {
   "codemirror_mode": {
    "name": "ipython",
    "version": 3
   },
   "file_extension": ".py",
   "mimetype": "text/x-python",
   "name": "python",
   "nbconvert_exporter": "python",
   "pygments_lexer": "ipython3",
   "version": "3.11.5"
  }
 },
 "nbformat": 4,
 "nbformat_minor": 2
}
