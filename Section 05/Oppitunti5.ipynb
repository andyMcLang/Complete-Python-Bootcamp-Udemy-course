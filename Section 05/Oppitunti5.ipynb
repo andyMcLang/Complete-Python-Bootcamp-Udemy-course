{
 "cells": [
  {
   "cell_type": "code",
   "execution_count": 12,
   "metadata": {},
   "outputs": [
    {
     "name": "stdout",
     "output_type": "stream",
     "text": [
      "Niino, emmätiiä mitä haluat!\n"
     ]
    }
   ],
   "source": [
    "# 34. If Elif and Else Statements in Python\n",
    "\n",
    "lokaatio = \"Talo\"\n",
    "\n",
    "if lokaatio == \"Auto\":\n",
    "    print(\"Juu, autot on siistejä!\")\n",
    "elif lokaatio == \"Pankki\":\n",
    "    print(\"Niin, rahaa on niin perkeleesti!\")\n",
    "else:\n",
    "    print(\"Niino, emmätiiä mitä haluat!\")\n"
   ]
  },
  {
   "cell_type": "code",
   "execution_count": 21,
   "metadata": {},
   "outputs": [
    {
     "name": "stdout",
     "output_type": "stream",
     "text": [
      "2\n",
      "4\n",
      "6\n",
      "8\n",
      "10\n",
      "-------------------------------------\n",
      "1\n",
      "3\n",
      "6\n",
      "10\n",
      "15\n",
      "21\n",
      "28\n",
      "36\n",
      "45\n",
      "55\n",
      "-------------------------------------\n",
      "3\n",
      "6\n",
      "auto\n",
      "-------------------------------------\n",
      "yksi\n",
      "kaksi\n",
      "kolme\n"
     ]
    }
   ],
   "source": [
    "# 35. For Loops in Python\n",
    "\n",
    "numerot = [1,2,3,4,5,6,7,8,9,10]\n",
    "\n",
    "for numero in numerot:\n",
    "    if numero % 2 == 0:\n",
    "        print(numero)\n",
    "\n",
    "print('-------------------------------------')\n",
    "\n",
    "sum = 0\n",
    "\n",
    "for numero in numerot:\n",
    "    sum += numero\n",
    "    print(sum)\n",
    "\n",
    "print('-------------------------------------')\n",
    "\n",
    "tupLista = [(1,2,3),(4,5,6),(7,8,'auto')]\n",
    "\n",
    "for a1,a2,a3 in tupLista:\n",
    "    print(a3)\n",
    "\n",
    "print('-------------------------------------')\n",
    "\n",
    "lista3 = {'a1': 'yksi', 'a2': 'kaksi', 'a3': 'kolme'}\n",
    "\n",
    "for avain, arvo in lista3.items():\n",
    "    print(arvo)"
   ]
  },
  {
   "cell_type": "code",
   "execution_count": 8,
   "metadata": {},
   "outputs": [
    {
     "name": "stdout",
     "output_type": "stream",
     "text": [
      "Numero on nyt 1\n",
      "Numero on nyt 3\n",
      "Numero on nyt 4\n",
      "Numero on nyt 5\n",
      "Numero on nyt 6\n",
      "Numero on nyt 7\n",
      "Numero on nyt 8\n"
     ]
    }
   ],
   "source": [
    "# 36. While Loops in Python\n",
    "\n",
    "x = 0\n",
    "\n",
    "while x < 10: \n",
    "    x+=1\n",
    "    if x == 2:\n",
    "        continue\n",
    "    print(f'Numero on nyt {x}')\n",
    "    if x == 8:\n",
    "        break"
   ]
  },
  {
   "cell_type": "code",
   "execution_count": 66,
   "metadata": {},
   "outputs": [
    {
     "name": "stdout",
     "output_type": "stream",
     "text": [
      "0\n",
      "2\n",
      "4\n",
      "6\n",
      "8\n",
      "10\n",
      "indeksissä 0 on kirjain a\n",
      "indeksissä 1 on kirjain b\n",
      "indeksissä 2 on kirjain c\n",
      "indeksissä 3 on kirjain d\n",
      "indeksissä 4 on kirjain e\n",
      "indeksissä 5 on kirjain f\n",
      "indeksissä 6 on kirjain g\n",
      "enumeratella tulos: (0, 'a')\n",
      "enumeratella tulos: (1, 'b')\n",
      "enumeratella tulos: (2, 'c')\n",
      "enumeratella tulos: (3, 'd')\n",
      "enumeratella tulos: (4, 'e')\n",
      "enumeratella tulos: (5, 'f')\n",
      "enumeratella tulos: (6, 'g')\n",
      "zipattu lista: [('a', 1), ('b', 2), ('c', 3)]\n",
      "zipattu lista for loopilla: ('a', 1)\n",
      "zipattu lista for loopilla: ('b', 2)\n",
      "zipattu lista for loopilla: ('c', 3)\n",
      "83\n",
      "Meni väärin!\n",
      "534 tuloksen tyyppi on <class 'int'>\n"
     ]
    }
   ],
   "source": [
    "# 37. Useful Operators in Python\n",
    "\n",
    "for number in range(0,11,2):\n",
    "    print(number)\n",
    "\n",
    "kirjaimet = 'abcdefg'\n",
    "indeksi_numero = 0\n",
    "\n",
    "for kirjain in kirjaimet:\n",
    "    print('indeksissä {} on kirjain {}'.format(indeksi_numero,kirjain))\n",
    "    indeksi_numero += 1\n",
    "\n",
    "for kirjain in enumerate(kirjaimet):\n",
    "    print(f'enumeratella tulos: {kirjain}')\n",
    "\n",
    "lista1 = ['a','b','c']\n",
    "lista2 = [1,2,3]\n",
    "\n",
    "zipattu = list(zip(lista1,lista2))\n",
    "print(f'zipattu lista: {zipattu}')\n",
    "\n",
    "for listayht in zip(lista1,lista2):\n",
    "    print(f'zipattu lista for loopilla: {listayht}')\n",
    "\n",
    "lause1 = 'tämä on siis lause'\n",
    "'siis' in (lause1)\n",
    "\n",
    "lista3 = [234,68,239,8947,9824,13,159]\n",
    "min(lista3)\n",
    "max(lista3)\n",
    "\n",
    "lista4 = [1,2,3,4,5,6,7,8,9,10]\n",
    "from random import shuffle\n",
    "shuffle(lista4)\n",
    "lista4\n",
    "\n",
    "from random import randint\n",
    "randomNumero = randint(1,100)\n",
    "print(randomNumero)\n",
    "\n",
    "nayttelija = input('Kuka se on joka näytteli Uuno Turhapuroa? ')\n",
    "if nayttelija == 'Vesa-Matti Loiri':\n",
    "    print('Aivan oikein!')\n",
    "else:\n",
    "    print('Meni väärin!')\n",
    "\n",
    "numeroStringistaInttiin = int(input('Anna numero:'))\n",
    "print('{} tuloksen tyyppi on {}'.format(numeroStringistaInttiin, type(numeroStringistaInttiin)))"
   ]
  },
  {
   "cell_type": "code",
   "execution_count": 86,
   "metadata": {},
   "outputs": [
    {
     "name": "stdout",
     "output_type": "stream",
     "text": [
      "['t', 'e', 'r', 'v', 'e']\n",
      "['t', 'e', 'r', 'v', 'e', 't', 'u', 'l', 'o', 'a']\n",
      "['ODD', 4, 'ODD', 16, 'ODD', 36, 'ODD', 64, 'ODD']\n",
      "[32.0, 50.36, 94.1]\n",
      "[20, 200, 2000, 40, 400, 4000, 60, 600, 6000]\n",
      "[2, 20, 200, 6, 60, 600, 9, 90, 900]\n"
     ]
    }
   ],
   "source": [
    "# 38. List Comprehensions in Python\n",
    "\n",
    "lause = 'terve'\n",
    "\n",
    "munlista = []\n",
    "\n",
    "for sana in lause:\n",
    "    munlista.append(sana)\n",
    "\n",
    "print(munlista)\n",
    "\n",
    "munlista = [sana for sana in 'tervetuloa']\n",
    "print(munlista)\n",
    "\n",
    "numerolista = [num**2 if num%2==0 else 'ODD' for num in range(1,10) ]\n",
    "print(numerolista)\n",
    "\n",
    "celsiukset = [0, 10.2, 34.5]\n",
    "fahrenheitit = [((9/5)*x+32) for x in celsiukset]\n",
    "print(fahrenheitit)\n",
    "\n",
    "munlista1 = []\n",
    "\n",
    "for x in [2,4,6]:\n",
    "    for y in [10,100,1000]:\n",
    "        munlista1.append(x*y)\n",
    "print(munlista1)\n",
    "\n",
    "munlista2 = [x*y for x in [2,6,9] for y in [1, 10, 100]]\n",
    "print(munlista2)"
   ]
  }
 ],
 "metadata": {
  "kernelspec": {
   "display_name": "base",
   "language": "python",
   "name": "python3"
  },
  "language_info": {
   "codemirror_mode": {
    "name": "ipython",
    "version": 3
   },
   "file_extension": ".py",
   "mimetype": "text/x-python",
   "name": "python",
   "nbconvert_exporter": "python",
   "pygments_lexer": "ipython3",
   "version": "3.11.5"
  }
 },
 "nbformat": 4,
 "nbformat_minor": 2
}
