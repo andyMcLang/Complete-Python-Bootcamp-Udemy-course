{
 "cells": [
  {
   "cell_type": "code",
   "execution_count": 3,
   "metadata": {},
   "outputs": [
    {
     "name": "stdout",
     "output_type": "stream",
     "text": [
      "[1, 2, 7, 3]\n"
     ]
    }
   ],
   "source": [
    "# 41. Methods and the Python Documentation\n",
    "\n",
    "mylist = [1,2,3]\n",
    "\n",
    "mylist.insert(2,7)\n",
    "\n",
    "print(mylist)"
   ]
  },
  {
   "cell_type": "code",
   "execution_count": 8,
   "metadata": {},
   "outputs": [
    {
     "name": "stdout",
     "output_type": "stream",
     "text": [
      "8\n",
      "tulos on 8\n"
     ]
    }
   ],
   "source": [
    "# 44. Basics of Python Functions\n",
    "\n",
    "def summa(num1,num2):\n",
    "    return num1+num2\n",
    "\n",
    "print(summa(3,5))\n",
    "\n",
    "print(f'tulos on {summa(3,5)}')"
   ]
  },
  {
   "cell_type": "code",
   "execution_count": 9,
   "metadata": {},
   "outputs": [
    {
     "data": {
      "text/plain": [
       "[20, 30]"
      ]
     },
     "execution_count": 9,
     "metadata": {},
     "output_type": "execute_result"
    }
   ],
   "source": [
    "# 45. Logic with Python Functions\n",
    "\n",
    "def parillisen_numeron_lista(lista):\n",
    "\n",
    "    parillinen_lista = []\n",
    "\n",
    "    for numero in lista:\n",
    "        if numero % 2 == 0:\n",
    "            parillinen_lista.append(numero)\n",
    "        else:\n",
    "            pass\n",
    "    \n",
    "    return parillinen_lista\n",
    "\n",
    "parillisen_numeron_lista([1,3,19,20,25,30])"
   ]
  },
  {
   "cell_type": "code",
   "execution_count": 23,
   "metadata": {},
   "outputs": [
    {
     "name": "stdout",
     "output_type": "stream",
     "text": [
      "Alvihinta: 866.76\n",
      "Alvihinta: 742.76\n",
      "Alvihinta: 618.76\n",
      "\"\"\"\"\"\"\"\"\"\"\"\"\"\"\"\"\"\"\"\"\"\"\"\"\n",
      "Työntekijä: Irmeli ja se teki myyntiä: 425.8\n",
      "Työntekijä: Matti ja se teki myyntiä: 689.5\n",
      "Työntekijä: Sakari ja se teki myyntiä: 210.1\n",
      "Työntekijä: Seija ja se teki myyntiä: 899.0\n",
      "Vuoden työntekijä on Seija, joka teki 899.0 euroa voittoa!\n"
     ]
    }
   ],
   "source": [
    "# 46. Tuple Unpacking with Python Functions\n",
    "\n",
    "kannykkahinnat = [('iPhone', 699), ('Galaxy S', 599), ('OnePlus', 499)]\n",
    "\n",
    "for merkki,hinta in kannykkahinnat:\n",
    "    print(f'Alvihinta: {(hinta+(hinta*0.24))}')\n",
    "\n",
    "print(\"\\\"\\\"\\\"\\\"\\\"\\\"\\\"\\\"\\\"\\\"\\\"\\\"\\\"\\\"\\\"\\\"\\\"\\\"\\\"\\\"\\\"\\\"\\\"\\\"\")\n",
    "\n",
    "tyontekijat = [(\"Irmeli\", 425.8), (\"Matti\", 689.5), (\"Sakari\", 210.1),(\"Seija\", 899.0)]\n",
    "\n",
    "voittosaldo = 0\n",
    "tyontekija = ''\n",
    "\n",
    "for nimi,myyntisaldo in tyontekijat:\n",
    "    print(f'Työntekijä: {nimi} ja se teki myyntiä: {myyntisaldo}')\n",
    "\n",
    "for nimi, myyntisaldo in tyontekijat:\n",
    "    if myyntisaldo > voittosaldo:\n",
    "        voittosaldo = myyntisaldo\n",
    "        tyontekija = nimi\n",
    "    else:\n",
    "        pass\n",
    "print(f'Vuoden työntekijä on {tyontekija}, joka teki {voittosaldo} euroa voittoa!')\n"
   ]
  },
  {
   "cell_type": "code",
   "execution_count": 70,
   "metadata": {},
   "outputs": [
    {
     "name": "stdout",
     "output_type": "stream",
     "text": [
      "[6, 5, 2, 3, 1, 8, 4, 7]\n",
      "\"\"\"\"\"\"\"\"\"\"\"\"\"\"\"\"\"\"\"\"\"\"\"\"\"\"\"\"\"\"\"\"\"\"\"\"\"\"\n",
      "\"\"\"\"\"\"\"\"\"\"\"\"\"\"\"\"\"\"\"\"\"\"\"\"\"\"\"\"\"\"\"\"\"\"\"\"\"\"\n",
      "Oikein! Purkissa oli [' ', 'O', ' '] eli pallo!\n"
     ]
    }
   ],
   "source": [
    "# 47. Interactions between Python Functions\n",
    "\n",
    "mun_lista = [1,2,3,4,5,6,7,8]\n",
    "\n",
    "from random import shuffle\n",
    "shuffle(mun_lista)\n",
    "\n",
    "print(mun_lista)\n",
    "\n",
    "print(\"\\\"\\\"\\\"\\\"\\\"\\\"\\\"\\\"\\\"\\\"\\\"\\\"\\\"\\\"\\\"\\\"\\\"\\\"\\\"\\\"\\\"\\\"\\\"\\\"\\\"\\\"\\\"\\\"\\\"\\\"\\\"\\\"\\\"\\\"\\\"\\\"\\\"\\\"\")\n",
    "\n",
    "pallo_kupissa = [\" \", \"O\", \" \"]\n",
    "\n",
    "\n",
    "def sekoita_kupit(x):\n",
    "    from random import shuffle\n",
    "    shuffle(x)\n",
    "    return x\n",
    "\n",
    "def kysy_kayttajalta():\n",
    "    arvaus = \"\"\n",
    "\n",
    "    while arvaus not in (\"0\", \"1\", \"2\"):\n",
    "        arvaus = input(\"Valitse 0,1,2: \")\n",
    "    \n",
    "    return int(arvaus)\n",
    "\n",
    "def vertaa(vastaus,arvaus):\n",
    "    if vastaus[arvaus] == 'O':\n",
    "        print(f'Oikein! Purkissa oli {vastaus} eli pallo löytyi!')\n",
    "    else:\n",
    "        print(f\"Ei onnannu tällä kertaa! {vastaus}\")\n",
    "\n",
    "print(\"\\\"\\\"\\\"\\\"\\\"\\\"\\\"\\\"\\\"\\\"\\\"\\\"\\\"\\\"\\\"\\\"\\\"\\\"\\\"\\\"\\\"\\\"\\\"\\\"\\\"\\\"\\\"\\\"\\\"\\\"\\\"\\\"\\\"\\\"\\\"\\\"\\\"\\\"\")\n",
    "\n",
    "sekoita_kupit(pallo_kupissa)\n",
    "kayttajan_arvaus = kysy_kayttajalta()\n",
    "vertaa(pallo_kupissa,kayttajan_arvaus)\n"
   ]
  },
  {
   "cell_type": "code",
   "execution_count": null,
   "metadata": {},
   "outputs": [],
   "source": []
  }
 ],
 "metadata": {
  "kernelspec": {
   "display_name": "base",
   "language": "python",
   "name": "python3"
  },
  "language_info": {
   "codemirror_mode": {
    "name": "ipython",
    "version": 3
   },
   "file_extension": ".py",
   "mimetype": "text/x-python",
   "name": "python",
   "nbconvert_exporter": "python",
   "pygments_lexer": "ipython3",
   "version": "3.11.5"
  }
 },
 "nbformat": 4,
 "nbformat_minor": 2
}
