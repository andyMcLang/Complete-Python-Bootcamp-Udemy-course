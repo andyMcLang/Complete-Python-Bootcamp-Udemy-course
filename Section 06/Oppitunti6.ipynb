{
 "cells": [
  {
   "cell_type": "code",
   "execution_count": 3,
   "metadata": {},
   "outputs": [
    {
     "name": "stdout",
     "output_type": "stream",
     "text": [
      "[1, 2, 7, 3]\n"
     ]
    }
   ],
   "source": [
    "# 41. Methods and the Python Documentation\n",
    "mylist = [1,2,3]\n",
    "\n",
    "mylist.insert(2,7)\n",
    "\n",
    "print(mylist)"
   ]
  },
  {
   "cell_type": "code",
   "execution_count": 8,
   "metadata": {},
   "outputs": [
    {
     "name": "stdout",
     "output_type": "stream",
     "text": [
      "8\n",
      "tulos on 8\n"
     ]
    }
   ],
   "source": [
    "# 44. Basics of Python Functions\n",
    "def summa(num1,num2):\n",
    "    return num1+num2\n",
    "\n",
    "print(summa(3,5))\n",
    "\n",
    "print(f'tulos on {summa(3,5)}')"
   ]
  }
 ],
 "metadata": {
  "kernelspec": {
   "display_name": "base",
   "language": "python",
   "name": "python3"
  },
  "language_info": {
   "codemirror_mode": {
    "name": "ipython",
    "version": 3
   },
   "file_extension": ".py",
   "mimetype": "text/x-python",
   "name": "python",
   "nbconvert_exporter": "python",
   "pygments_lexer": "ipython3",
   "version": "3.11.5"
  }
 },
 "nbformat": 4,
 "nbformat_minor": 2
}
