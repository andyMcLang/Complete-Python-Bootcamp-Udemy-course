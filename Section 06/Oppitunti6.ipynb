{
 "cells": [
  {
   "cell_type": "code",
   "execution_count": 3,
   "metadata": {},
   "outputs": [
    {
     "name": "stdout",
     "output_type": "stream",
     "text": [
      "[1, 2, 7, 3]\n"
     ]
    }
   ],
   "source": [
    "# 41. Methods and the Python Documentation\n",
    "\n",
    "mylist = [1,2,3]\n",
    "\n",
    "mylist.insert(2,7)\n",
    "\n",
    "print(mylist)"
   ]
  },
  {
   "cell_type": "code",
   "execution_count": 8,
   "metadata": {},
   "outputs": [
    {
     "name": "stdout",
     "output_type": "stream",
     "text": [
      "8\n",
      "tulos on 8\n"
     ]
    }
   ],
   "source": [
    "# 44. Basics of Python Functions\n",
    "\n",
    "def summa(num1,num2):\n",
    "    return num1+num2\n",
    "\n",
    "print(summa(3,5))\n",
    "\n",
    "print(f'tulos on {summa(3,5)}')"
   ]
  },
  {
   "cell_type": "code",
   "execution_count": 9,
   "metadata": {},
   "outputs": [
    {
     "data": {
      "text/plain": [
       "[20, 30]"
      ]
     },
     "execution_count": 9,
     "metadata": {},
     "output_type": "execute_result"
    }
   ],
   "source": [
    "# 45. Logic with Python Functions\n",
    "\n",
    "def parillisen_numeron_lista(lista):\n",
    "\n",
    "    parillinen_lista = []\n",
    "\n",
    "    for numero in lista:\n",
    "        if numero % 2 == 0:\n",
    "            parillinen_lista.append(numero)\n",
    "        else:\n",
    "            pass\n",
    "    \n",
    "    return parillinen_lista\n",
    "\n",
    "parillisen_numeron_lista([1,3,19,20,25,30])"
   ]
  },
  {
   "cell_type": "code",
   "execution_count": 23,
   "metadata": {},
   "outputs": [
    {
     "name": "stdout",
     "output_type": "stream",
     "text": [
      "Alvihinta: 866.76\n",
      "Alvihinta: 742.76\n",
      "Alvihinta: 618.76\n",
      "\"\"\"\"\"\"\"\"\"\"\"\"\"\"\"\"\"\"\"\"\"\"\"\"\n",
      "Työntekijä: Irmeli ja se teki myyntiä: 425.8\n",
      "Työntekijä: Matti ja se teki myyntiä: 689.5\n",
      "Työntekijä: Sakari ja se teki myyntiä: 210.1\n",
      "Työntekijä: Seija ja se teki myyntiä: 899.0\n",
      "Vuoden työntekijä on Seija, joka teki 899.0 euroa voittoa!\n"
     ]
    }
   ],
   "source": [
    "# 46. Tuple Unpacking with Python Functions\n",
    "\n",
    "kannykkahinnat = [('iPhone', 699), ('Galaxy S', 599), ('OnePlus', 499)]\n",
    "\n",
    "for merkki,hinta in kannykkahinnat:\n",
    "    print(f'Alvihinta: {(hinta+(hinta*0.24))}')\n",
    "\n",
    "print(\"\\\"\\\"\\\"\\\"\\\"\\\"\\\"\\\"\\\"\\\"\\\"\\\"\\\"\\\"\\\"\\\"\\\"\\\"\\\"\\\"\\\"\\\"\\\"\\\"\")\n",
    "\n",
    "tyontekijat = [(\"Irmeli\", 425.8), (\"Matti\", 689.5), (\"Sakari\", 210.1),(\"Seija\", 899.0)]\n",
    "\n",
    "voittosaldo = 0\n",
    "tyontekija = ''\n",
    "\n",
    "for nimi,myyntisaldo in tyontekijat:\n",
    "    print(f'Työntekijä: {nimi} ja se teki myyntiä: {myyntisaldo}')\n",
    "\n",
    "for nimi, myyntisaldo in tyontekijat:\n",
    "    if myyntisaldo > voittosaldo:\n",
    "        voittosaldo = myyntisaldo\n",
    "        tyontekija = nimi\n",
    "    else:\n",
    "        pass\n",
    "print(f'Vuoden työntekijä on {tyontekija}, joka teki {voittosaldo} euroa voittoa!')\n"
   ]
  },
  {
   "cell_type": "code",
   "execution_count": 70,
   "metadata": {},
   "outputs": [
    {
     "name": "stdout",
     "output_type": "stream",
     "text": [
      "[6, 5, 2, 3, 1, 8, 4, 7]\n",
      "\"\"\"\"\"\"\"\"\"\"\"\"\"\"\"\"\"\"\"\"\"\"\"\"\"\"\"\"\"\"\"\"\"\"\"\"\"\"\n",
      "\"\"\"\"\"\"\"\"\"\"\"\"\"\"\"\"\"\"\"\"\"\"\"\"\"\"\"\"\"\"\"\"\"\"\"\"\"\"\n",
      "Oikein! Purkissa oli [' ', 'O', ' '] eli pallo!\n"
     ]
    }
   ],
   "source": [
    "# 47. Interactions between Python Functions\n",
    "\n",
    "mun_lista = [1,2,3,4,5,6,7,8]\n",
    "\n",
    "from random import shuffle\n",
    "shuffle(mun_lista)\n",
    "\n",
    "print(mun_lista)\n",
    "\n",
    "print(\"\\\"\\\"\\\"\\\"\\\"\\\"\\\"\\\"\\\"\\\"\\\"\\\"\\\"\\\"\\\"\\\"\\\"\\\"\\\"\\\"\\\"\\\"\\\"\\\"\\\"\\\"\\\"\\\"\\\"\\\"\\\"\\\"\\\"\\\"\\\"\\\"\\\"\\\"\")\n",
    "\n",
    "pallo_kupissa = [\" \", \"O\", \" \"]\n",
    "\n",
    "\n",
    "def sekoita_kupit(x):\n",
    "    from random import shuffle\n",
    "    shuffle(x)\n",
    "    return x\n",
    "\n",
    "def kysy_kayttajalta():\n",
    "    arvaus = \"\"\n",
    "\n",
    "    while arvaus not in (\"0\", \"1\", \"2\"):\n",
    "        arvaus = input(\"Valitse 0,1,2: \")\n",
    "    \n",
    "    return int(arvaus)\n",
    "\n",
    "def vertaa(vastaus,arvaus):\n",
    "    if vastaus[arvaus] == 'O':\n",
    "        print(f'Oikein! Purkissa oli {vastaus} eli pallo löytyi!')\n",
    "    else:\n",
    "        print(f\"Ei onnannu tällä kertaa! {vastaus}\")\n",
    "\n",
    "print(\"\\\"\\\"\\\"\\\"\\\"\\\"\\\"\\\"\\\"\\\"\\\"\\\"\\\"\\\"\\\"\\\"\\\"\\\"\\\"\\\"\\\"\\\"\\\"\\\"\\\"\\\"\\\"\\\"\\\"\\\"\\\"\\\"\\\"\\\"\\\"\\\"\\\"\\\"\")\n",
    "\n",
    "sekoita_kupit(pallo_kupissa)\n",
    "kayttajan_arvaus = kysy_kayttajalta()\n",
    "vertaa(pallo_kupissa,kayttajan_arvaus)\n"
   ]
  },
  {
   "cell_type": "code",
   "execution_count": 22,
   "metadata": {},
   "outputs": [
    {
     "name": "stdout",
     "output_type": "stream",
     "text": [
      "('1,54,98,32', 'joo', 'stringitkin mukaan')\n",
      "Valitseman hedelmä on omena.\n"
     ]
    },
    {
     "ename": "IndexError",
     "evalue": "Replacement index 1 out of range for positional args tuple",
     "output_type": "error",
     "traceback": [
      "\u001b[1;31m---------------------------------------------------------------------------\u001b[0m",
      "\u001b[1;31mIndexError\u001b[0m                                Traceback (most recent call last)",
      "Cell \u001b[1;32mIn[22], line 20\u001b[0m\n\u001b[0;32m     17\u001b[0m     \u001b[38;5;28;01mif\u001b[39;00m \u001b[38;5;124m'\u001b[39m\u001b[38;5;124mruoka\u001b[39m\u001b[38;5;124m'\u001b[39m \u001b[38;5;129;01min\u001b[39;00m kwargs:\n\u001b[0;32m     18\u001b[0m         \u001b[38;5;28mprint\u001b[39m(\u001b[38;5;124m'\u001b[39m\u001b[38;5;124mOttaisin \u001b[39m\u001b[38;5;132;01m{}\u001b[39;00m\u001b[38;5;124m \u001b[39m\u001b[38;5;132;01m{}\u001b[39;00m\u001b[38;5;124ma.\u001b[39m\u001b[38;5;124m'\u001b[39m\u001b[38;5;241m.\u001b[39mformat(args[\u001b[38;5;241m0\u001b[39m])(kwargs[\u001b[38;5;124m'\u001b[39m\u001b[38;5;124mruoka\u001b[39m\u001b[38;5;124m'\u001b[39m]))\n\u001b[1;32m---> 20\u001b[0m mun_args_ja_kwargs_funktio(\u001b[38;5;241m10\u001b[39m, ruoka\u001b[38;5;241m=\u001b[39m\u001b[38;5;124m'\u001b[39m\u001b[38;5;124mmuna\u001b[39m\u001b[38;5;124m'\u001b[39m)\n",
      "Cell \u001b[1;32mIn[22], line 18\u001b[0m, in \u001b[0;36mmun_args_ja_kwargs_funktio\u001b[1;34m(*args, **kwargs)\u001b[0m\n\u001b[0;32m     16\u001b[0m \u001b[38;5;28;01mdef\u001b[39;00m \u001b[38;5;21mmun_args_ja_kwargs_funktio\u001b[39m(\u001b[38;5;241m*\u001b[39margs, \u001b[38;5;241m*\u001b[39m\u001b[38;5;241m*\u001b[39mkwargs):\n\u001b[0;32m     17\u001b[0m     \u001b[38;5;28;01mif\u001b[39;00m \u001b[38;5;124m'\u001b[39m\u001b[38;5;124mruoka\u001b[39m\u001b[38;5;124m'\u001b[39m \u001b[38;5;129;01min\u001b[39;00m kwargs:\n\u001b[1;32m---> 18\u001b[0m         \u001b[38;5;28mprint\u001b[39m(\u001b[38;5;124m'\u001b[39m\u001b[38;5;124mOttaisin \u001b[39m\u001b[38;5;132;01m{}\u001b[39;00m\u001b[38;5;124m \u001b[39m\u001b[38;5;132;01m{}\u001b[39;00m\u001b[38;5;124ma.\u001b[39m\u001b[38;5;124m'\u001b[39m\u001b[38;5;241m.\u001b[39mformat(args[\u001b[38;5;241m0\u001b[39m])(kwargs[\u001b[38;5;124m'\u001b[39m\u001b[38;5;124mruoka\u001b[39m\u001b[38;5;124m'\u001b[39m]))\n",
      "\u001b[1;31mIndexError\u001b[0m: Replacement index 1 out of range for positional args tuple"
     ]
    }
   ],
   "source": [
    "# 49. *args and **kwargs in Python\n",
    "\n",
    "def mun_args_funktio(*args):\n",
    "    print(args)\n",
    "\n",
    "mun_args_funktio(\"1,54,98,32\", \"joo\", \"stringitkin mukaan\")\n",
    "\n",
    "def mun_kwargs_funktio(**kwargs):\n",
    "    if 'hedelma' in kwargs:\n",
    "        print('Valitseman hedelmä on {}.'.format(kwargs['hedelma']))\n",
    "    else:\n",
    "        print('Jotain muuta')\n",
    "\n",
    "mun_kwargs_funktio(hedelma='omena')\n",
    "\n",
    "def mun_args_ja_kwargs_funktio(*args, **kwargs):\n",
    "    if 'ruoka' in kwargs:\n",
    "        print('Ottaisin {} {}a.'.format(args[0],kwargs['ruoka']))\n",
    "\n",
    "mun_args_ja_kwargs_funktio(10, ruoka='muna')"
   ]
  }
 ],
 "metadata": {
  "kernelspec": {
   "display_name": "base",
   "language": "python",
   "name": "python3"
  },
  "language_info": {
   "codemirror_mode": {
    "name": "ipython",
    "version": 3
   },
   "file_extension": ".py",
   "mimetype": "text/x-python",
   "name": "python",
   "nbconvert_exporter": "python",
   "pygments_lexer": "ipython3",
   "version": "3.11.5"
  }
 },
 "nbformat": 4,
 "nbformat_minor": 2
}
