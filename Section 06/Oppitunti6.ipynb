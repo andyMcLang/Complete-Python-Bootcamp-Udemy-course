{
 "cells": [
  {
   "cell_type": "code",
   "execution_count": 3,
   "metadata": {},
   "outputs": [
    {
     "name": "stdout",
     "output_type": "stream",
     "text": [
      "[1, 2, 7, 3]\n"
     ]
    }
   ],
   "source": [
    "# 41. Methods and the Python Documentation\n",
    "\n",
    "mylist = [1,2,3]\n",
    "\n",
    "mylist.insert(2,7)\n",
    "\n",
    "print(mylist)"
   ]
  },
  {
   "cell_type": "code",
   "execution_count": 8,
   "metadata": {},
   "outputs": [
    {
     "name": "stdout",
     "output_type": "stream",
     "text": [
      "8\n",
      "tulos on 8\n"
     ]
    }
   ],
   "source": [
    "# 44. Basics of Python Functions\n",
    "\n",
    "def summa(num1,num2):\n",
    "    return num1+num2\n",
    "\n",
    "print(summa(3,5))\n",
    "\n",
    "print(f'tulos on {summa(3,5)}')"
   ]
  },
  {
   "cell_type": "code",
   "execution_count": 9,
   "metadata": {},
   "outputs": [
    {
     "data": {
      "text/plain": [
       "[20, 30]"
      ]
     },
     "execution_count": 9,
     "metadata": {},
     "output_type": "execute_result"
    }
   ],
   "source": [
    "# 45. Logic with Python Functions\n",
    "\n",
    "def parillisen_numeron_lista(lista):\n",
    "\n",
    "    parillinen_lista = []\n",
    "\n",
    "    for numero in lista:\n",
    "        if numero % 2 == 0:\n",
    "            parillinen_lista.append(numero)\n",
    "        else:\n",
    "            pass\n",
    "    \n",
    "    return parillinen_lista\n",
    "\n",
    "parillisen_numeron_lista([1,3,19,20,25,30])"
   ]
  },
  {
   "cell_type": "code",
   "execution_count": 23,
   "metadata": {},
   "outputs": [
    {
     "name": "stdout",
     "output_type": "stream",
     "text": [
      "Alvihinta: 866.76\n",
      "Alvihinta: 742.76\n",
      "Alvihinta: 618.76\n",
      "\"\"\"\"\"\"\"\"\"\"\"\"\"\"\"\"\"\"\"\"\"\"\"\"\n",
      "Työntekijä: Irmeli ja se teki myyntiä: 425.8\n",
      "Työntekijä: Matti ja se teki myyntiä: 689.5\n",
      "Työntekijä: Sakari ja se teki myyntiä: 210.1\n",
      "Työntekijä: Seija ja se teki myyntiä: 899.0\n",
      "Vuoden työntekijä on Seija, joka teki 899.0 euroa voittoa!\n"
     ]
    }
   ],
   "source": [
    "# 46. Tuple Unpacking with Python Functions\n",
    "\n",
    "kannykkahinnat = [('iPhone', 699), ('Galaxy S', 599), ('OnePlus', 499)]\n",
    "\n",
    "for merkki,hinta in kannykkahinnat:\n",
    "    print(f'Alvihinta: {(hinta+(hinta*0.24))}')\n",
    "\n",
    "print(\"\\\"\\\"\\\"\\\"\\\"\\\"\\\"\\\"\\\"\\\"\\\"\\\"\\\"\\\"\\\"\\\"\\\"\\\"\\\"\\\"\\\"\\\"\\\"\\\"\")\n",
    "\n",
    "tyontekijat = [(\"Irmeli\", 425.8), (\"Matti\", 689.5), (\"Sakari\", 210.1),(\"Seija\", 899.0)]\n",
    "\n",
    "voittosaldo = 0\n",
    "tyontekija = ''\n",
    "\n",
    "for nimi,myyntisaldo in tyontekijat:\n",
    "    print(f'Työntekijä: {nimi} ja se teki myyntiä: {myyntisaldo}')\n",
    "\n",
    "for nimi, myyntisaldo in tyontekijat:\n",
    "    if myyntisaldo > voittosaldo:\n",
    "        voittosaldo = myyntisaldo\n",
    "        tyontekija = nimi\n",
    "    else:\n",
    "        pass\n",
    "print(f'Vuoden työntekijä on {tyontekija}, joka teki {voittosaldo} euroa voittoa!')\n"
   ]
  },
  {
   "cell_type": "code",
   "execution_count": 70,
   "metadata": {},
   "outputs": [
    {
     "name": "stdout",
     "output_type": "stream",
     "text": [
      "[6, 5, 2, 3, 1, 8, 4, 7]\n",
      "\"\"\"\"\"\"\"\"\"\"\"\"\"\"\"\"\"\"\"\"\"\"\"\"\"\"\"\"\"\"\"\"\"\"\"\"\"\"\n",
      "\"\"\"\"\"\"\"\"\"\"\"\"\"\"\"\"\"\"\"\"\"\"\"\"\"\"\"\"\"\"\"\"\"\"\"\"\"\"\n",
      "Oikein! Purkissa oli [' ', 'O', ' '] eli pallo!\n"
     ]
    }
   ],
   "source": [
    "# 47. Interactions between Python Functions\n",
    "\n",
    "mun_lista = [1,2,3,4,5,6,7,8]\n",
    "\n",
    "from random import shuffle\n",
    "shuffle(mun_lista)\n",
    "\n",
    "print(mun_lista)\n",
    "\n",
    "print(\"\\\"\\\"\\\"\\\"\\\"\\\"\\\"\\\"\\\"\\\"\\\"\\\"\\\"\\\"\\\"\\\"\\\"\\\"\\\"\\\"\\\"\\\"\\\"\\\"\\\"\\\"\\\"\\\"\\\"\\\"\\\"\\\"\\\"\\\"\\\"\\\"\\\"\\\"\")\n",
    "\n",
    "pallo_kupissa = [\" \", \"O\", \" \"]\n",
    "\n",
    "\n",
    "def sekoita_kupit(x):\n",
    "    from random import shuffle\n",
    "    shuffle(x)\n",
    "    return x\n",
    "\n",
    "def kysy_kayttajalta():\n",
    "    arvaus = \"\"\n",
    "\n",
    "    while arvaus not in (\"0\", \"1\", \"2\"):\n",
    "        arvaus = input(\"Valitse 0,1,2: \")\n",
    "    \n",
    "    return int(arvaus)\n",
    "\n",
    "def vertaa(vastaus,arvaus):\n",
    "    if vastaus[arvaus] == 'O':\n",
    "        print(f'Oikein! Purkissa oli {vastaus} eli pallo löytyi!')\n",
    "    else:\n",
    "        print(f\"Ei onnannu tällä kertaa! {vastaus}\")\n",
    "\n",
    "print(\"\\\"\\\"\\\"\\\"\\\"\\\"\\\"\\\"\\\"\\\"\\\"\\\"\\\"\\\"\\\"\\\"\\\"\\\"\\\"\\\"\\\"\\\"\\\"\\\"\\\"\\\"\\\"\\\"\\\"\\\"\\\"\\\"\\\"\\\"\\\"\\\"\\\"\\\"\")\n",
    "\n",
    "sekoita_kupit(pallo_kupissa)\n",
    "kayttajan_arvaus = kysy_kayttajalta()\n",
    "vertaa(pallo_kupissa,kayttajan_arvaus)\n"
   ]
  },
  {
   "cell_type": "code",
   "execution_count": 23,
   "metadata": {},
   "outputs": [
    {
     "name": "stdout",
     "output_type": "stream",
     "text": [
      "('1,54,98,32', 'joo', 'stringitkin mukaan')\n",
      "Valitseman hedelmä on omena.\n",
      "Ottaisin 10 munaa.\n"
     ]
    }
   ],
   "source": [
    "# 49. *args and **kwargs in Python\n",
    "\n",
    "def mun_args_funktio(*args):\n",
    "    print(args)\n",
    "\n",
    "mun_args_funktio(\"1,54,98,32\", \"joo\", \"stringitkin mukaan\")\n",
    "\n",
    "def mun_kwargs_funktio(**kwargs):\n",
    "    if 'hedelma' in kwargs:\n",
    "        print('Valitseman hedelmä on {}.'.format(kwargs['hedelma']))\n",
    "    else:\n",
    "        print('Jotain muuta')\n",
    "\n",
    "mun_kwargs_funktio(hedelma='omena')\n",
    "\n",
    "def mun_args_ja_kwargs_funktio(*args, **kwargs):\n",
    "    if 'ruoka' in kwargs:\n",
    "        print('Ottaisin {} {}a.'.format(args[0],kwargs['ruoka']))\n",
    "\n",
    "mun_args_ja_kwargs_funktio(10, ruoka='muna')"
   ]
  },
  {
   "cell_type": "code",
   "execution_count": 25,
   "metadata": {},
   "outputs": [
    {
     "data": {
      "text/plain": [
       "64"
      ]
     },
     "execution_count": 25,
     "metadata": {},
     "output_type": "execute_result"
    }
   ],
   "source": [
    "# Coding Exercise 17: Functions #8: *args\n",
    "\n",
    "\"\"\" \n",
    "Functions #8: *args\n",
    "Define a function called myfunc that takes in an arbitrary number of arguments, and returns the sum of those arguments.\n",
    "\n",
    "Remember, don't run the function, simply provide the definition.\n",
    "\n",
    "For example, a function that returns a count of the number of arbitrary arguments might look like:\n",
    "\n",
    "def myfunc(*args):\n",
    "    return len(args)\n",
    "This is all you need to enter!\n",
    "\n",
    "To give an idea what the above function would look like when tested:\n",
    "\n",
    "myfunc(5,6,7,8)\n",
    "# Output: 4\n",
    "Added note: this exercise requires that the function return the sum. Print statements will not work here. \n",
    "\"\"\"\n",
    "\n",
    "def myfunc(*args):\n",
    "    return sum(args)\n",
    "\n",
    "myfunc(10,31,23)"
   ]
  },
  {
   "cell_type": "code",
   "execution_count": 16,
   "metadata": {},
   "outputs": [
    {
     "data": {
      "text/plain": [
       "[-2, 0, 6, 8]"
      ]
     },
     "execution_count": 16,
     "metadata": {},
     "output_type": "execute_result"
    }
   ],
   "source": [
    "# Coding Exercise 18: Functions #9: pick evens\n",
    "\n",
    "\"\"\"\n",
    "Functions #9: pick evens\n",
    "Define a function called myfunc that takes in an arbitrary number of arguments, and returns a list containing only those arguments that are even.\n",
    "\n",
    "Remember, don't run the function, simply provide the definition.\n",
    "\n",
    "To give an idea what the function would look like when tested:\n",
    "\n",
    "myfunc(5,6,7,8)\n",
    "# Output: [6, 8]\n",
    "Added note: this exercise requires that the function return a list. Print statements will not work here.\n",
    "\"\"\"\n",
    "\n",
    "def myfunc(*args):\n",
    "    mylist = []\n",
    "    for num in args:\n",
    "        if num%2==0:\n",
    "            mylist.append(num)\n",
    "    return mylist\n",
    "\n",
    "myfunc(-2,-3,0,5,6,7,8)"
   ]
  },
  {
   "cell_type": "code",
   "execution_count": 1,
   "metadata": {},
   "outputs": [
    {
     "data": {
      "text/plain": [
       "'AmOrPhOrFoSiIiIiIs!!'"
      ]
     },
     "execution_count": 1,
     "metadata": {},
     "output_type": "execute_result"
    }
   ],
   "source": [
    "# Coding Exercise 19: Functions #10: skyline\n",
    "\"\"\"\n",
    "Functions #10: skyline\n",
    "Define a function called myfunc that takes in a string, and returns a matching string where every even letter is uppercase, \n",
    "and every odd letter is lowercase. \n",
    "Assume that the incoming string only contains letters, and don't worry about numbers, \n",
    "spaces or punctuation. \n",
    "The output string can start with either an uppercase or lowercase letter, \n",
    "so long as letters alternate throughout the string.\n",
    "\n",
    "To give an idea what the function would look like when tested:\n",
    "\n",
    "myfunc('Anthropomorphism')\n",
    "# Output: 'aNtHrOpOmOrPhIsM'\n",
    "\"\"\"\n",
    "def myfunc(stringi):\n",
    "    uusi_sana = \"\"\n",
    "\n",
    "    for kirjain in range(len(stringi)):\n",
    "        if kirjain % 2 == 0:\n",
    "            uusi_sana += stringi[kirjain].upper()\n",
    "        else:\n",
    "            uusi_sana += stringi[kirjain].lower()\n",
    "        \n",
    "    return uusi_sana\n",
    "\n",
    "myfunc(\"amorphorfosiiiiiis!!\")"
   ]
  },
  {
   "cell_type": "code",
   "execution_count": 3,
   "metadata": {},
   "outputs": [],
   "source": [
    "# 55. Lambda Expressions, Map, and Filter Functions\n",
    "\n",
    "def square(num):\n",
    "    return num**2\n"
   ]
  },
  {
   "cell_type": "code",
   "execution_count": 4,
   "metadata": {},
   "outputs": [
    {
     "data": {
      "text/plain": [
       "[1, 9, 49, 144, 361]"
      ]
     },
     "execution_count": 4,
     "metadata": {},
     "output_type": "execute_result"
    }
   ],
   "source": [
    "nums = [1,3,7,12,19]\n",
    "\n",
    "list(map(square,nums))"
   ]
  },
  {
   "cell_type": "code",
   "execution_count": 10,
   "metadata": {},
   "outputs": [],
   "source": [
    "def splaisseri(sana):\n",
    "    if len(sana) % 2 == 0:\n",
    "        return 'PARILLINEN'\n",
    "    else:\n",
    "        return sana"
   ]
  },
  {
   "cell_type": "code",
   "execution_count": 11,
   "metadata": {},
   "outputs": [
    {
     "data": {
      "text/plain": [
       "['PARILLINEN', 'Eve', 'Lassi']"
      ]
     },
     "execution_count": 11,
     "metadata": {},
     "output_type": "execute_result"
    }
   ],
   "source": [
    "nimet = ['Andy', 'Eve', 'Lassi']\n",
    "\n",
    "list(map(splaisseri,nimet))"
   ]
  },
  {
   "cell_type": "code",
   "execution_count": 13,
   "metadata": {},
   "outputs": [],
   "source": [
    "def tsekkaa_parilliset(num):\n",
    "    if num % 2 == 0:\n",
    "        return num"
   ]
  },
  {
   "cell_type": "code",
   "execution_count": 14,
   "metadata": {},
   "outputs": [
    {
     "data": {
      "text/plain": [
       "[8, 20, 46, 128]"
      ]
     },
     "execution_count": 14,
     "metadata": {},
     "output_type": "execute_result"
    }
   ],
   "source": [
    "numerot = [1,3,5,8,19,20,46,128]\n",
    "\n",
    "list(filter(tsekkaa_parilliset, numerot))"
   ]
  },
  {
   "cell_type": "code",
   "execution_count": 16,
   "metadata": {},
   "outputs": [
    {
     "data": {
      "text/plain": [
       "[1, 9, 25, 64, 361, 400, 2116, 16384]"
      ]
     },
     "execution_count": 16,
     "metadata": {},
     "output_type": "execute_result"
    }
   ],
   "source": [
    "list(map(lambda num:num**2, numerot))"
   ]
  },
  {
   "cell_type": "code",
   "execution_count": 17,
   "metadata": {},
   "outputs": [
    {
     "data": {
      "text/plain": [
       "[8, 20, 46, 128]"
      ]
     },
     "execution_count": 17,
     "metadata": {},
     "output_type": "execute_result"
    }
   ],
   "source": [
    "list(filter(lambda num:num % 2 == 0, numerot))"
   ]
  },
  {
   "cell_type": "code",
   "execution_count": 19,
   "metadata": {},
   "outputs": [
    {
     "data": {
      "text/plain": [
       "['ydnA', 'evE', 'issaL']"
      ]
     },
     "execution_count": 19,
     "metadata": {},
     "output_type": "execute_result"
    }
   ],
   "source": [
    "list(map(lambda x:x[::-1], nimet))"
   ]
  }
 ],
 "metadata": {
  "kernelspec": {
   "display_name": "base",
   "language": "python",
   "name": "python3"
  },
  "language_info": {
   "codemirror_mode": {
    "name": "ipython",
    "version": 3
   },
   "file_extension": ".py",
   "mimetype": "text/x-python",
   "name": "python",
   "nbconvert_exporter": "python",
   "pygments_lexer": "ipython3",
   "version": "3.11.5"
  }
 },
 "nbformat": 4,
 "nbformat_minor": 2
}
