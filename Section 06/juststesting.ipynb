{
 "cells": [
  {
   "cell_type": "code",
   "execution_count": 5,
   "metadata": {},
   "outputs": [
    {
     "data": {
      "text/plain": [
       "'sEkOpÄä'"
      ]
     },
     "execution_count": 5,
     "metadata": {},
     "output_type": "execute_result"
    }
   ],
   "source": [
    "def minunFunktioni(s):\n",
    "    stringi = \"\"\n",
    "\n",
    "    for kirjain in range(len(s)):\n",
    "        if kirjain % 2 == 0:\n",
    "            stringi += s[kirjain].lower()\n",
    "        else:\n",
    "            stringi += s[kirjain].upper()\n",
    "    return stringi\n",
    "\n",
    "\n",
    "minunFunktioni(\"sekopää\")"
   ]
  }
 ],
 "metadata": {
  "kernelspec": {
   "display_name": "base",
   "language": "python",
   "name": "python3"
  },
  "language_info": {
   "codemirror_mode": {
    "name": "ipython",
    "version": 3
   },
   "file_extension": ".py",
   "mimetype": "text/x-python",
   "name": "python",
   "nbconvert_exporter": "python",
   "pygments_lexer": "ipython3",
   "version": "3.11.5"
  }
 },
 "nbformat": 4,
 "nbformat_minor": 2
}
